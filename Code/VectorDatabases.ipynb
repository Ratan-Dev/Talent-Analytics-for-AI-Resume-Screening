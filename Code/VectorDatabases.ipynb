{
  "nbformat": 4,
  "nbformat_minor": 0,
  "metadata": {
    "colab": {
      "provenance": []
    },
    "kernelspec": {
      "name": "python3",
      "display_name": "Python 3"
    },
    "language_info": {
      "name": "python"
    }
  },
  "cells": [
    {
      "cell_type": "code",
      "source": [
        "pip install pinecone-client"
      ],
      "metadata": {
        "colab": {
          "base_uri": "https://localhost:8080/",
          "height": 0
        },
        "id": "wxdFfJQTXsY5",
        "outputId": "8b0d8a29-7e8f-4402-886b-ded60c0cbe24"
      },
      "execution_count": 6,
      "outputs": [
        {
          "output_type": "stream",
          "name": "stdout",
          "text": [
            "Collecting pinecone-client\n",
            "  Downloading pinecone_client-3.2.2-py3-none-any.whl (215 kB)\n",
            "\u001b[2K     \u001b[90m━━━━━━━━━━━━━━━━━━━━━━━━━━━━━━━━━━━━━━━━\u001b[0m \u001b[32m215.9/215.9 kB\u001b[0m \u001b[31m4.8 MB/s\u001b[0m eta \u001b[36m0:00:00\u001b[0m\n",
            "\u001b[?25hRequirement already satisfied: certifi>=2019.11.17 in /usr/local/lib/python3.10/dist-packages (from pinecone-client) (2024.2.2)\n",
            "Requirement already satisfied: tqdm>=4.64.1 in /usr/local/lib/python3.10/dist-packages (from pinecone-client) (4.66.2)\n",
            "Requirement already satisfied: typing-extensions>=3.7.4 in /usr/local/lib/python3.10/dist-packages (from pinecone-client) (4.10.0)\n",
            "Requirement already satisfied: urllib3>=1.26.0 in /usr/local/lib/python3.10/dist-packages (from pinecone-client) (2.0.7)\n",
            "Installing collected packages: pinecone-client\n",
            "Successfully installed pinecone-client-3.2.2\n"
          ]
        }
      ]
    },
    {
      "cell_type": "code",
      "execution_count": 3,
      "metadata": {
        "colab": {
          "base_uri": "https://localhost:8080/",
          "height": 0
        },
        "id": "_2p3BWZKU2Ch",
        "outputId": "4b2eb2f1-6410-488f-9bab-8ae7ae0823d2"
      },
      "outputs": [
        {
          "output_type": "stream",
          "name": "stdout",
          "text": [
            "   Unnamed: 0           Title Company/Location  \\\n",
            "0           0  Data Scientist     commitremote   \n",
            "\n",
            "                                         Description  \n",
            "0  skillsdo experience web service yesno job deta...  \n"
          ]
        }
      ],
      "source": [
        "import pandas as pd\n",
        "\n",
        "# Replace 'your_file.csv' with the path to your CSV file\n",
        "file_path = 'scraped_preprocessed_df.csv'\n",
        "\n",
        "# Read the CSV file into a pandas DataFrame\n",
        "data = pd.read_csv(file_path)\n",
        "\n",
        "# Display the first few rows of the DataFrame to verify that it was read correctly\n",
        "print(data.head(1))"
      ]
    },
    {
      "cell_type": "code",
      "source": [
        "data.shape"
      ],
      "metadata": {
        "colab": {
          "base_uri": "https://localhost:8080/",
          "height": 0
        },
        "id": "ck5W_CRCitZi",
        "outputId": "fe025118-965e-4e2d-dc2c-32c0fbe7aadc"
      },
      "execution_count": 22,
      "outputs": [
        {
          "output_type": "execute_result",
          "data": {
            "text/plain": [
              "(120, 4)"
            ]
          },
          "metadata": {},
          "execution_count": 22
        }
      ]
    },
    {
      "cell_type": "code",
      "source": [
        "column_names = data.columns\n",
        "\n",
        "# Print column names\n",
        "print(\"Column names:\")\n",
        "for column in column_names:\n",
        "    print(column)"
      ],
      "metadata": {
        "colab": {
          "base_uri": "https://localhost:8080/",
          "height": 0
        },
        "id": "lh6-jzsLWCAO",
        "outputId": "48aa214d-6673-4af6-ef19-c824572b35aa"
      },
      "execution_count": 4,
      "outputs": [
        {
          "output_type": "stream",
          "name": "stdout",
          "text": [
            "Column names:\n",
            "Unnamed: 0\n",
            "Title\n",
            "Company/Location\n",
            "Description\n"
          ]
        }
      ]
    },
    {
      "cell_type": "code",
      "source": [
        "from pinecone import Pinecone,  ServerlessSpec\n",
        "\n",
        "pc = Pinecone(api_key='4f6218a4-19c8-44de-b9f9-cba78dd0e28b')"
      ],
      "metadata": {
        "id": "jRafhSZXWNcL"
      },
      "execution_count": 18,
      "outputs": []
    },
    {
      "cell_type": "code",
      "source": [
        "pc.create_index(\n",
        "    name=\"description\",\n",
        "    dimension=300, # Replace with your model dimensions\n",
        "    metric=\"euclidean\", # Replace with your model metric\n",
        "    spec=ServerlessSpec(\n",
        "        cloud=\"aws\",\n",
        "        region=\"us-west-2\"\n",
        "    )\n",
        ")"
      ],
      "metadata": {
        "id": "3N1Mk3GkbAvk"
      },
      "execution_count": 19,
      "outputs": []
    },
    {
      "cell_type": "code",
      "source": [
        "index = pc.Index(\"description\")"
      ],
      "metadata": {
        "id": "cMra6DQpX4sH"
      },
      "execution_count": 20,
      "outputs": []
    },
    {
      "cell_type": "code",
      "source": [
        "import gensim.downloader as api\n",
        "import numpy as np\n",
        "\n",
        "# Load pre-trained Word2Vec model\n",
        "word2vec_model = api.load(\"word2vec-google-news-300\")\n",
        "\n",
        "\n",
        "# Save the model to a file\n",
        "model_file_path = \"word2vec_model.bin\"\n",
        "word2vec_model.save(model_file_path)"
      ],
      "metadata": {
        "colab": {
          "base_uri": "https://localhost:8080/",
          "height": 0
        },
        "id": "frN9z4f0aTNG",
        "outputId": "5ffdb625-f8c3-4ef5-9bfc-2ec022b198a8"
      },
      "execution_count": 1,
      "outputs": [
        {
          "output_type": "stream",
          "name": "stdout",
          "text": [
            "[==================================================] 100.0% 1662.8/1662.8MB downloaded\n"
          ]
        }
      ]
    },
    {
      "cell_type": "code",
      "source": [
        "def text_to_vector(text):\n",
        "    if isinstance(text, str):\n",
        "        # Split the text into words\n",
        "        words = text.split()\n",
        "        # Initialize an empty vector\n",
        "        vector = np.zeros(word2vec_model.vector_size)\n",
        "        # For each word in the text, get its word vector and add it to the vector\n",
        "        for word in words:\n",
        "            if word in word2vec_model:\n",
        "                vector += word2vec_model[word]\n",
        "        # Normalize the vector\n",
        "        if words:\n",
        "            vector /= len(words)\n",
        "    else:\n",
        "        # If the text is not a string, return a vector of zeros\n",
        "        vector = None\n",
        "    return vector\n",
        "\n",
        "vectors = []\n",
        "# Convert each description into a vector and upsert it into the index\n",
        "for idx, description in enumerate(data[\"Description\"]):\n",
        "\n",
        "    # Convert description to vector\n",
        "    description_vector = text_to_vector(description)\n",
        "    if description_vector is not None:\n",
        "    # Construct the vector object with metadata\n",
        "      vector_object = {\n",
        "          \"id\": str(idx),\n",
        "          \"values\": description_vector.tolist(),  # Convert numpy array to list\n",
        "        }\n",
        "\n",
        "      vectors.append(vector_object)\n",
        "    # Upsert vector into the index\n",
        "index.upsert(vectors)"
      ],
      "metadata": {
        "colab": {
          "base_uri": "https://localhost:8080/",
          "height": 0
        },
        "id": "3kmi_1dkdJs2",
        "outputId": "99ed2220-9ebb-4d8b-ccc7-20b441d1c7a7"
      },
      "execution_count": 25,
      "outputs": [
        {
          "output_type": "execute_result",
          "data": {
            "text/plain": [
              "{'upserted_count': 117}"
            ]
          },
          "metadata": {},
          "execution_count": 25
        }
      ]
    },
    {
      "cell_type": "code",
      "source": [
        "file_path = 'resume_preprocessed_df.csv'\n",
        "\n",
        "# Read the CSV file into a pandas DataFrame\n",
        "df = pd.read_csv(file_path)\n",
        "\n",
        "# Display the first few rows of the DataFrame to verify that it was read correctly\n",
        "print(df.head(1))"
      ],
      "metadata": {
        "colab": {
          "base_uri": "https://localhost:8080/",
          "height": 0
        },
        "id": "OltkIeIyjqdM",
        "outputId": "d381b2db-dcf1-4aa2-e3a6-7ad2e2daf134"
      },
      "execution_count": 26,
      "outputs": [
        {
          "output_type": "stream",
          "name": "stdout",
          "text": [
            "   Unnamed: 0      Category                                             Resume\n",
            "0           0  Data Science  skill programming language python panda numpy ...\n"
          ]
        }
      ]
    },
    {
      "cell_type": "code",
      "source": [
        "resume_vector = text_to_vector(df['Resume'][5])\n",
        "\n",
        "if resume_vector is not None:\n",
        "    # Convert the resume vector from NumPy array to a Python list\n",
        "    resume_vector_list = resume_vector.tolist()\n",
        "    # Query using the converted resume vector list\n",
        "\n",
        "    results = index.query(vector=resume_vector_list, top_k=3, include_values=False)\n",
        "    print(results)"
      ],
      "metadata": {
        "colab": {
          "base_uri": "https://localhost:8080/",
          "height": 0
        },
        "id": "JxgUHTRPj8UR",
        "outputId": "5be800f1-1e88-4f2b-b4f0-f0e0ae504052"
      },
      "execution_count": 46,
      "outputs": [
        {
          "output_type": "stream",
          "name": "stdout",
          "text": [
            "{'matches': [{'id': '48', 'score': 0.352579117, 'values': []},\n",
            "             {'id': '42', 'score': 0.352579117, 'values': []},\n",
            "             {'id': '87', 'score': 0.396939099, 'values': []}],\n",
            " 'namespace': '',\n",
            " 'usage': {'read_units': 5}}\n"
          ]
        }
      ]
    },
    {
      "cell_type": "code",
      "source": [
        "# Assuming 'results' contains the output you provided\n",
        "matches = results['matches']\n",
        "\n",
        "# Extract IDs from matches\n",
        "ids = [match['id'] for match in matches]\n",
        "\n",
        "# Retrieve titles from 'data' DataFrame based on IDs\n",
        "titles = [data.loc[int(match_id)]['Title'] for match_id in ids]\n",
        "\n",
        "# Print the titles\n",
        "print(\"Titles:\")\n",
        "for title in titles:\n",
        "    print(title)\n"
      ],
      "metadata": {
        "colab": {
          "base_uri": "https://localhost:8080/",
          "height": 0
        },
        "id": "QeT_W8mCkYwS",
        "outputId": "c7d15347-bb6a-4466-d0be-56ba7a08b661"
      },
      "execution_count": 47,
      "outputs": [
        {
          "output_type": "stream",
          "name": "stdout",
          "text": [
            "Titles:\n",
            "Data Scientist\n",
            "Data Scientist\n",
            "IT Support Service Analyst (M-F 8AM-4PM & M-F 9:30AM-5:30PM)\n"
          ]
        }
      ]
    }
  ]
}