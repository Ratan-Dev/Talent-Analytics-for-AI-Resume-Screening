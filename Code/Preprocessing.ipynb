{
 "cells": [
  {
   "cell_type": "code",
   "execution_count": 1,
   "id": "3f7efc80",
   "metadata": {},
   "outputs": [],
   "source": [
    "import pandas as pd\n",
    "import numpy as np\n",
    "from bs4 import BeautifulSoup\n",
    "import nltk\n",
    "from nltk.corpus import stopwords\n",
    "from nltk.tokenize import word_tokenize\n",
    "from nltk.stem import PorterStemmer, WordNetLemmatizer\n",
    "import string\n",
    "\n",
    "import warnings\n",
    "warnings.filterwarnings(\"ignore\", category=UserWarning)"
   ]
  },
  {
   "cell_type": "code",
   "execution_count": 2,
   "id": "e370d2eb",
   "metadata": {},
   "outputs": [],
   "source": [
    "data_resume = pd.read_csv('/Users/harshil/Desktop/Academic2023/BIA660/UpdatedResumeDataSet.csv')"
   ]
  },
  {
   "cell_type": "code",
   "execution_count": 3,
   "id": "6e74824d",
   "metadata": {},
   "outputs": [
    {
     "data": {
      "text/html": [
       "<div>\n",
       "<style scoped>\n",
       "    .dataframe tbody tr th:only-of-type {\n",
       "        vertical-align: middle;\n",
       "    }\n",
       "\n",
       "    .dataframe tbody tr th {\n",
       "        vertical-align: top;\n",
       "    }\n",
       "\n",
       "    .dataframe thead th {\n",
       "        text-align: right;\n",
       "    }\n",
       "</style>\n",
       "<table border=\"1\" class=\"dataframe\">\n",
       "  <thead>\n",
       "    <tr style=\"text-align: right;\">\n",
       "      <th></th>\n",
       "      <th>Category</th>\n",
       "      <th>Resume</th>\n",
       "    </tr>\n",
       "  </thead>\n",
       "  <tbody>\n",
       "    <tr>\n",
       "      <th>0</th>\n",
       "      <td>Data Science</td>\n",
       "      <td>Skills * Programming Languages: Python (pandas...</td>\n",
       "    </tr>\n",
       "    <tr>\n",
       "      <th>1</th>\n",
       "      <td>Data Science</td>\n",
       "      <td>Education Details \\r\\nMay 2013 to May 2017 B.E...</td>\n",
       "    </tr>\n",
       "    <tr>\n",
       "      <th>2</th>\n",
       "      <td>Data Science</td>\n",
       "      <td>Areas of Interest Deep Learning, Control Syste...</td>\n",
       "    </tr>\n",
       "    <tr>\n",
       "      <th>3</th>\n",
       "      <td>Data Science</td>\n",
       "      <td>Skills â¢ R â¢ Python â¢ SAP HANA â¢ Table...</td>\n",
       "    </tr>\n",
       "    <tr>\n",
       "      <th>4</th>\n",
       "      <td>Data Science</td>\n",
       "      <td>Education Details \\r\\n MCA   YMCAUST,  Faridab...</td>\n",
       "    </tr>\n",
       "  </tbody>\n",
       "</table>\n",
       "</div>"
      ],
      "text/plain": [
       "       Category                                             Resume\n",
       "0  Data Science  Skills * Programming Languages: Python (pandas...\n",
       "1  Data Science  Education Details \\r\\nMay 2013 to May 2017 B.E...\n",
       "2  Data Science  Areas of Interest Deep Learning, Control Syste...\n",
       "3  Data Science  Skills â¢ R â¢ Python â¢ SAP HANA â¢ Table...\n",
       "4  Data Science  Education Details \\r\\n MCA   YMCAUST,  Faridab..."
      ]
     },
     "execution_count": 3,
     "metadata": {},
     "output_type": "execute_result"
    }
   ],
   "source": [
    "data_resume.head()"
   ]
  },
  {
   "cell_type": "code",
   "execution_count": 4,
   "id": "e74bfcc1",
   "metadata": {},
   "outputs": [],
   "source": [
    "data_scraped = pd.read_csv('/Users/harshil/Desktop/Academic2023/BIA660/ScrapedJobs.csv', index_col = 0)"
   ]
  },
  {
   "cell_type": "code",
   "execution_count": 5,
   "id": "69b5e411",
   "metadata": {},
   "outputs": [
    {
     "data": {
      "text/html": [
       "<div>\n",
       "<style scoped>\n",
       "    .dataframe tbody tr th:only-of-type {\n",
       "        vertical-align: middle;\n",
       "    }\n",
       "\n",
       "    .dataframe tbody tr th {\n",
       "        vertical-align: top;\n",
       "    }\n",
       "\n",
       "    .dataframe thead th {\n",
       "        text-align: right;\n",
       "    }\n",
       "</style>\n",
       "<table border=\"1\" class=\"dataframe\">\n",
       "  <thead>\n",
       "    <tr style=\"text-align: right;\">\n",
       "      <th></th>\n",
       "      <th>Title</th>\n",
       "      <th>Company/Location</th>\n",
       "      <th>Description</th>\n",
       "    </tr>\n",
       "  </thead>\n",
       "  <tbody>\n",
       "    <tr>\n",
       "      <th>0</th>\n",
       "      <td>Data Scientist</td>\n",
       "      <td>CommitRemote</td>\n",
       "      <td>SkillsDo you have experience in Web services?Y...</td>\n",
       "    </tr>\n",
       "    <tr>\n",
       "      <th>1</th>\n",
       "      <td>Data Analyst / Data Scientist</td>\n",
       "      <td>DATSURAWashington, DC 20549 (NoMa area)Un Stat...</td>\n",
       "      <td>SkillsDo you have experience in Technical writ...</td>\n",
       "    </tr>\n",
       "    <tr>\n",
       "      <th>2</th>\n",
       "      <td>Senior Data Engineer (Machine Learning)</td>\n",
       "      <td>Precision Systems4.8Remote</td>\n",
       "      <td>SkillsDo you have experience in Spark?YesNo&amp;nb...</td>\n",
       "    </tr>\n",
       "    <tr>\n",
       "      <th>3</th>\n",
       "      <td>Data Scientist (Remote Eligible)</td>\n",
       "      <td>Mathematica Policy ResearchRemote in Princeton...</td>\n",
       "      <td>SkillsDo you have experience in Tableau?YesNoE...</td>\n",
       "    </tr>\n",
       "    <tr>\n",
       "      <th>4</th>\n",
       "      <td>Data Scientist Positions</td>\n",
       "      <td>Princeton UniversityPrinceton, NJ 08544</td>\n",
       "      <td>SkillsDo you have experience in Research?YesNo...</td>\n",
       "    </tr>\n",
       "  </tbody>\n",
       "</table>\n",
       "</div>"
      ],
      "text/plain": [
       "                                     Title  \\\n",
       "0                           Data Scientist   \n",
       "1            Data Analyst / Data Scientist   \n",
       "2  Senior Data Engineer (Machine Learning)   \n",
       "3         Data Scientist (Remote Eligible)   \n",
       "4                 Data Scientist Positions   \n",
       "\n",
       "                                    Company/Location  \\\n",
       "0                                       CommitRemote   \n",
       "1  DATSURAWashington, DC 20549 (NoMa area)Un Stat...   \n",
       "2                         Precision Systems4.8Remote   \n",
       "3  Mathematica Policy ResearchRemote in Princeton...   \n",
       "4            Princeton UniversityPrinceton, NJ 08544   \n",
       "\n",
       "                                         Description  \n",
       "0  SkillsDo you have experience in Web services?Y...  \n",
       "1  SkillsDo you have experience in Technical writ...  \n",
       "2  SkillsDo you have experience in Spark?YesNo&nb...  \n",
       "3  SkillsDo you have experience in Tableau?YesNoE...  \n",
       "4  SkillsDo you have experience in Research?YesNo...  "
      ]
     },
     "execution_count": 5,
     "metadata": {},
     "output_type": "execute_result"
    }
   ],
   "source": [
    "data_scraped.head()"
   ]
  },
  {
   "cell_type": "code",
   "execution_count": 6,
   "id": "6a7a9ccc",
   "metadata": {},
   "outputs": [
    {
     "name": "stdout",
     "output_type": "stream",
     "text": [
      "962\n",
      "120\n"
     ]
    }
   ],
   "source": [
    "print(len(data_resume))\n",
    "print(len(data_scraped))"
   ]
  },
  {
   "cell_type": "code",
   "execution_count": 7,
   "id": "39f5391d",
   "metadata": {},
   "outputs": [],
   "source": [
    "def preprocess_text(text, remove_html=True, remove_punctuation=True, remove_special_chars=True,\n",
    "                    remove_stopwords=True, stemming=False, lemmatization=False):\n",
    "    \n",
    "    # Remove HTML tags\n",
    "    if remove_html:\n",
    "        text = BeautifulSoup(text, \"html.parser\").get_text()\n",
    "    \n",
    "    # Convert to lowercase\n",
    "    text = text.lower()\n",
    "    \n",
    "    # Tokenization\n",
    "    tokens = word_tokenize(text)\n",
    "    \n",
    "    # Remove punctuation\n",
    "    if remove_punctuation:\n",
    "        tokens = [word for word in tokens if word not in string.punctuation]\n",
    "    \n",
    "    # Remove special characters\n",
    "    if remove_special_chars:\n",
    "        tokens = [word for word in tokens if word.isalnum()]\n",
    "    \n",
    "    # Remove stopwords\n",
    "    if remove_stopwords:\n",
    "        stop_words = set(stopwords.words('english'))\n",
    "        tokens = [word for word in tokens if word not in stop_words]\n",
    "    \n",
    "    # Stemming\n",
    "    if stemming:\n",
    "        stemmer = PorterStemmer()\n",
    "        tokens = [stemmer.stem(word) for word in tokens]\n",
    "    \n",
    "    # Lemmatization\n",
    "    if lemmatization:\n",
    "        lemmatizer = WordNetLemmatizer()\n",
    "        tokens = [lemmatizer.lemmatize(word) for word in tokens]\n",
    "    \n",
    "    # Join tokens back into a string\n",
    "    processed_text = ' '.join(tokens)\n",
    "    \n",
    "    return processed_text\n",
    "\n",
    "def preprocess_dataframe(df, columns, **kwargs):\n",
    "    for col in columns:\n",
    "        df[col] = df[col].apply(lambda x: preprocess_text(x, **kwargs) if pd.notnull(x) else '')\n",
    "    return df"
   ]
  },
  {
   "cell_type": "code",
   "execution_count": 8,
   "id": "eb5a9fa2",
   "metadata": {},
   "outputs": [],
   "source": [
    "resume_preprocessed_df = preprocess_dataframe(data_resume, columns=['Resume'], remove_html = True, \n",
    "                                              remove_punctuation = True, remove_special_chars = True,\n",
    "                                              remove_stopwords = True, stemming = False, lemmatization = True)"
   ]
  },
  {
   "cell_type": "code",
   "execution_count": 9,
   "id": "967391d2",
   "metadata": {},
   "outputs": [
    {
     "data": {
      "text/html": [
       "<div>\n",
       "<style scoped>\n",
       "    .dataframe tbody tr th:only-of-type {\n",
       "        vertical-align: middle;\n",
       "    }\n",
       "\n",
       "    .dataframe tbody tr th {\n",
       "        vertical-align: top;\n",
       "    }\n",
       "\n",
       "    .dataframe thead th {\n",
       "        text-align: right;\n",
       "    }\n",
       "</style>\n",
       "<table border=\"1\" class=\"dataframe\">\n",
       "  <thead>\n",
       "    <tr style=\"text-align: right;\">\n",
       "      <th></th>\n",
       "      <th>Category</th>\n",
       "      <th>Resume</th>\n",
       "    </tr>\n",
       "  </thead>\n",
       "  <tbody>\n",
       "    <tr>\n",
       "      <th>0</th>\n",
       "      <td>Data Science</td>\n",
       "      <td>skill programming language python panda numpy ...</td>\n",
       "    </tr>\n",
       "    <tr>\n",
       "      <th>1</th>\n",
       "      <td>Data Science</td>\n",
       "      <td>education detail may 2013 may 2017 data scient...</td>\n",
       "    </tr>\n",
       "    <tr>\n",
       "      <th>2</th>\n",
       "      <td>Data Science</td>\n",
       "      <td>area interest deep learning control system des...</td>\n",
       "    </tr>\n",
       "    <tr>\n",
       "      <th>3</th>\n",
       "      <td>Data Science</td>\n",
       "      <td>skill r python sap hana tableau sap hana sql s...</td>\n",
       "    </tr>\n",
       "    <tr>\n",
       "      <th>4</th>\n",
       "      <td>Data Science</td>\n",
       "      <td>education detail mca ymcaust faridabad haryana...</td>\n",
       "    </tr>\n",
       "  </tbody>\n",
       "</table>\n",
       "</div>"
      ],
      "text/plain": [
       "       Category                                             Resume\n",
       "0  Data Science  skill programming language python panda numpy ...\n",
       "1  Data Science  education detail may 2013 may 2017 data scient...\n",
       "2  Data Science  area interest deep learning control system des...\n",
       "3  Data Science  skill r python sap hana tableau sap hana sql s...\n",
       "4  Data Science  education detail mca ymcaust faridabad haryana..."
      ]
     },
     "execution_count": 9,
     "metadata": {},
     "output_type": "execute_result"
    }
   ],
   "source": [
    "resume_preprocessed_df.head()"
   ]
  },
  {
   "cell_type": "code",
   "execution_count": 10,
   "id": "6de4d2f2",
   "metadata": {},
   "outputs": [
    {
     "name": "stdout",
     "output_type": "stream",
     "text": [
      "skill programming language python panda numpy scipy matplotlib sql java machine learning regression svm bayes knn random forest decision tree boosting technique cluster analysis word embedding sentiment analysis natural language processing dimensionality reduction topic modelling lda nmf pca neural net database visualization mysql sqlserver cassandra hbase elasticsearch plotly kibana matplotlib ggplot tableau others regular expression html cs angular 6 logstash kafka python flask git docker computer vision open cv understanding deep detail data science assurance associate data science assurance associate ernst young llp skill detail exprience 24 month exprience 24 month exprience 24 monthscompany detail company ernst young llp description fraud investigation dispute service assurance technology assisted review tar technology assisted review assist accelerating review process run analytics generate report core member team helped developing automated review platform tool scratch assisting e discovery domain tool implement predictive coding topic modelling automating review resulting reduced labor cost time spent lawyer review understand end end flow solution research development classification model predictive analysis mining information present text data worked analyzing output precision monitoring entire tool tar assist predictive coding topic modelling evidence following ey standard developed classifier model order identify red flag issue tool technology python tfidf word2vec doc2vec cosine similarity bayes lda nmf topic modelling vader text blob sentiment analysis matplot lib tableau dashboard reporting multiple data science analytic project usa client text analytics motor vehicle customer review data received customer feedback survey data past one year performed sentiment positive negative neutral time series analysis customer comment across 4 category created heat map term survey category based frequency word extracted positive negative word across survey category plotted word cloud created customized tableau dashboard effective reporting visualization chatbot developed user friendly chatbot one product handle simple question hour operation reservation option chat bot serf entire product related question giving overview tool via qa platform also give recommendation response user question build chain relevant answer intelligence build pipeline question per user requirement asks relevant question tool technology python natural language processing nltk spacy topic modelling sentiment analysis word embedding sqlserver information governance organization make informed decision information store integrated information governance portfolio synthesizes intelligence across unstructured data source facilitates action ensure organization best positioned counter information risk scan data multiple source format parse different file format extract meta data information push result indexing elastic search created customized interactive dashboard using kibana preforming rot analysis data give information data help identify content either redundant outdated trivial preforming search analysis elastic search predefined method tag pii personally identifiable information social security number address name etc frequently targeted tool technology python flask elastic search kibana fraud analytic platform fraud analytics investigative platform review red flag case fap fraud analytics investigative platform inbuilt case manager suite analytics various erp system used client interrogate accounting system identifying anomaly indicator fraud running advanced analytics tool technology html javascript sqlserver jquery cs bootstrap\n"
     ]
    }
   ],
   "source": [
    "print(resume_preprocessed_df['Resume'].values[0])"
   ]
  },
  {
   "cell_type": "code",
   "execution_count": 11,
   "id": "bf917fa5",
   "metadata": {},
   "outputs": [],
   "source": [
    "scraped_preprocessed_df = preprocess_dataframe(data_scraped, columns=['Company/Location', 'Description'], \n",
    "                                               remove_html = True, remove_punctuation = True, \n",
    "                                               remove_special_chars = True, remove_stopwords = True, \n",
    "                                               stemming = False, lemmatization = True)"
   ]
  },
  {
   "cell_type": "code",
   "execution_count": 12,
   "id": "385ee154",
   "metadata": {},
   "outputs": [
    {
     "data": {
      "text/html": [
       "<div>\n",
       "<style scoped>\n",
       "    .dataframe tbody tr th:only-of-type {\n",
       "        vertical-align: middle;\n",
       "    }\n",
       "\n",
       "    .dataframe tbody tr th {\n",
       "        vertical-align: top;\n",
       "    }\n",
       "\n",
       "    .dataframe thead th {\n",
       "        text-align: right;\n",
       "    }\n",
       "</style>\n",
       "<table border=\"1\" class=\"dataframe\">\n",
       "  <thead>\n",
       "    <tr style=\"text-align: right;\">\n",
       "      <th></th>\n",
       "      <th>Title</th>\n",
       "      <th>Company/Location</th>\n",
       "      <th>Description</th>\n",
       "    </tr>\n",
       "  </thead>\n",
       "  <tbody>\n",
       "    <tr>\n",
       "      <th>0</th>\n",
       "      <td>Data Scientist</td>\n",
       "      <td>commitremote</td>\n",
       "      <td>skillsdo experience web service yesno job deta...</td>\n",
       "    </tr>\n",
       "    <tr>\n",
       "      <th>1</th>\n",
       "      <td>Data Analyst / Data Scientist</td>\n",
       "      <td>datsurawashington dc 20549 noma area un statio...</td>\n",
       "      <td>skillsdo experience technical writing yesno jo...</td>\n",
       "    </tr>\n",
       "    <tr>\n",
       "      <th>2</th>\n",
       "      <td>Senior Data Engineer (Machine Learning)</td>\n",
       "      <td>precision</td>\n",
       "      <td>skillsdo experience spark yesno job detailsher...</td>\n",
       "    </tr>\n",
       "    <tr>\n",
       "      <th>3</th>\n",
       "      <td>Data Scientist (Remote Eligible)</td>\n",
       "      <td>mathematica policy researchremote princeton nj...</td>\n",
       "      <td>skillsdo experience tableau yesnoeducationdo b...</td>\n",
       "    </tr>\n",
       "    <tr>\n",
       "      <th>4</th>\n",
       "      <td>Data Scientist Positions</td>\n",
       "      <td>princeton universityprinceton nj 08544</td>\n",
       "      <td>skillsdo experience research yesnoeducationdo ...</td>\n",
       "    </tr>\n",
       "    <tr>\n",
       "      <th>...</th>\n",
       "      <td>...</td>\n",
       "      <td>...</td>\n",
       "      <td>...</td>\n",
       "    </tr>\n",
       "    <tr>\n",
       "      <th>115</th>\n",
       "      <td>Help Desk Technician</td>\n",
       "      <td>oak integrated caremount holly nj</td>\n",
       "      <td>skillsdo experience window yesnoeducationdo as...</td>\n",
       "    </tr>\n",
       "    <tr>\n",
       "      <th>116</th>\n",
       "      <td>Service Desk Analyst - Level 1</td>\n",
       "      <td>wynne systemremote</td>\n",
       "      <td>skillsdo experience analysis skill yesno job d...</td>\n",
       "    </tr>\n",
       "    <tr>\n",
       "      <th>117</th>\n",
       "      <td>Information Technology Manager</td>\n",
       "      <td>harvard club bostonhybrid remote boston 02215</td>\n",
       "      <td>skillsdo experience software troubleshooting y...</td>\n",
       "    </tr>\n",
       "    <tr>\n",
       "      <th>118</th>\n",
       "      <td>System Administrator IV</td>\n",
       "      <td>chenhalls va</td>\n",
       "      <td>skillsdo experience visual basic yesno job det...</td>\n",
       "    </tr>\n",
       "    <tr>\n",
       "      <th>119</th>\n",
       "      <td>Product Manager - Outdoor/Camping Gear</td>\n",
       "      <td>gr8 outdoorsremote</td>\n",
       "      <td>skillsdo experience project management yesnoed...</td>\n",
       "    </tr>\n",
       "  </tbody>\n",
       "</table>\n",
       "<p>120 rows × 3 columns</p>\n",
       "</div>"
      ],
      "text/plain": [
       "                                       Title  \\\n",
       "0                             Data Scientist   \n",
       "1              Data Analyst / Data Scientist   \n",
       "2    Senior Data Engineer (Machine Learning)   \n",
       "3           Data Scientist (Remote Eligible)   \n",
       "4                   Data Scientist Positions   \n",
       "..                                       ...   \n",
       "115                     Help Desk Technician   \n",
       "116           Service Desk Analyst - Level 1   \n",
       "117           Information Technology Manager   \n",
       "118                  System Administrator IV   \n",
       "119   Product Manager - Outdoor/Camping Gear   \n",
       "\n",
       "                                      Company/Location  \\\n",
       "0                                         commitremote   \n",
       "1    datsurawashington dc 20549 noma area un statio...   \n",
       "2                                            precision   \n",
       "3    mathematica policy researchremote princeton nj...   \n",
       "4               princeton universityprinceton nj 08544   \n",
       "..                                                 ...   \n",
       "115                  oak integrated caremount holly nj   \n",
       "116                                 wynne systemremote   \n",
       "117      harvard club bostonhybrid remote boston 02215   \n",
       "118                                       chenhalls va   \n",
       "119                                 gr8 outdoorsremote   \n",
       "\n",
       "                                           Description  \n",
       "0    skillsdo experience web service yesno job deta...  \n",
       "1    skillsdo experience technical writing yesno jo...  \n",
       "2    skillsdo experience spark yesno job detailsher...  \n",
       "3    skillsdo experience tableau yesnoeducationdo b...  \n",
       "4    skillsdo experience research yesnoeducationdo ...  \n",
       "..                                                 ...  \n",
       "115  skillsdo experience window yesnoeducationdo as...  \n",
       "116  skillsdo experience analysis skill yesno job d...  \n",
       "117  skillsdo experience software troubleshooting y...  \n",
       "118  skillsdo experience visual basic yesno job det...  \n",
       "119  skillsdo experience project management yesnoed...  \n",
       "\n",
       "[120 rows x 3 columns]"
      ]
     },
     "execution_count": 12,
     "metadata": {},
     "output_type": "execute_result"
    }
   ],
   "source": [
    "scraped_preprocessed_df"
   ]
  },
  {
   "cell_type": "code",
   "execution_count": 13,
   "id": "41a84f98",
   "metadata": {},
   "outputs": [
    {
     "name": "stdout",
     "output_type": "stream",
     "text": [
      "commitremote\n"
     ]
    }
   ],
   "source": [
    "print(scraped_preprocessed_df['Company/Location'].values[0])"
   ]
  },
  {
   "cell_type": "code",
   "execution_count": 14,
   "id": "ff7bbc5b",
   "metadata": {},
   "outputs": [
    {
     "name": "stdout",
     "output_type": "stream",
     "text": [
      "skillsdo experience web service yesno job detailshere job detail align yearjob schedule8 hour shift locationremotebenefitspulled full job description401 k dental insurancehealth insurancefull job descriptionresponsibilities collecting large set structured unstructured data various source developing algorithm analyze data apply machine learning technique cleaning validating data ensure accuracy completeness uniformity devising utilizing algorithm model mine big data store perform data error analysis improve model clean validate data uniformity accuracy analyzing data identify pattern trend interpreting data discover solution opportunity communicating finding stakeholder using visualization mean qualification advanced degree computer science statistic mathematics related field proficiency data mining mathematics statistical analysis advanced pattern recognition predictive modeling experience experience sql programming language python java familiarity machine learning framework like kera tensorflow library like excellent analytical ability great communication skill job type salary per year benefit 401 k dental insurance health insurance experience level 2 year 3 year schedule 8 hour shift work location remote\n"
     ]
    }
   ],
   "source": [
    "print(scraped_preprocessed_df['Description'].values[0])"
   ]
  }
 ],
 "metadata": {
  "kernelspec": {
   "display_name": "Python 3 (ipykernel)",
   "language": "python",
   "name": "python3"
  },
  "language_info": {
   "codemirror_mode": {
    "name": "ipython",
    "version": 3
   },
   "file_extension": ".py",
   "mimetype": "text/x-python",
   "name": "python",
   "nbconvert_exporter": "python",
   "pygments_lexer": "ipython3",
   "version": "3.9.13"
  }
 },
 "nbformat": 4,
 "nbformat_minor": 5
}
